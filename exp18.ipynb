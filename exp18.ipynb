{
  "nbformat": 4,
  "nbformat_minor": 0,
  "metadata": {
    "colab": {
      "provenance": [],
      "authorship_tag": "ABX9TyPTeUu8iIGkQmO/wGQAzg2H",
      "include_colab_link": true
    },
    "kernelspec": {
      "name": "python3",
      "display_name": "Python 3"
    },
    "language_info": {
      "name": "python"
    }
  },
  "cells": [
    {
      "cell_type": "markdown",
      "metadata": {
        "id": "view-in-github",
        "colab_type": "text"
      },
      "source": [
        "<a href=\"https://colab.research.google.com/github/tanishayadav16/DL_exp3/blob/main/exp18.ipynb\" target=\"_parent\"><img src=\"https://colab.research.google.com/assets/colab-badge.svg\" alt=\"Open In Colab\"/></a>"
      ]
    },
    {
      "cell_type": "code",
      "source": [
        "import nltk\n",
        "from nltk.corpus import stopwords\n",
        "from nltk.stem import WordNetLemmatizer\n",
        "\n",
        "# ✅ Download required packages (except punkt_tab)\n",
        "nltk.download('stopwords')\n",
        "nltk.download('wordnet')\n",
        "nltk.download('omw-1.4')\n",
        "\n",
        "# ✅ Sample text\n",
        "text = \"The leaves on the trees were falling gently as she walked through the forest.\"\n",
        "\n",
        "# ✅ Step 1: Basic Tokenization using split (no punkt needed)\n",
        "tokens = text.lower().split()\n",
        "\n",
        "# ✅ Step 2: Remove stopwords and non-alphabetic tokens\n",
        "stop_words = set(stopwords.words('english'))\n",
        "filtered_tokens = [word for word in tokens if word.isalpha() and word not in stop_words]\n",
        "\n",
        "# ✅ Step 3: Lemmatization\n",
        "lemmatizer = WordNetLemmatizer()\n",
        "lemmatized_words = [lemmatizer.lemmatize(word) for word in filtered_tokens]\n",
        "\n",
        "# ✅ Output\n",
        "print(\"Original Text:\\n\", text)\n",
        "print(\"\\nAfter Stopword Removal & Lemmatization:\\n\", lemmatized_words)\n"
      ],
      "metadata": {
        "colab": {
          "base_uri": "https://localhost:8080/"
        },
        "id": "WdXBTJIirFlb",
        "outputId": "4d7ae8a0-9fe1-4e48-dffe-bdc5aa085660"
      },
      "execution_count": 3,
      "outputs": [
        {
          "output_type": "stream",
          "name": "stderr",
          "text": [
            "[nltk_data] Downloading package stopwords to /root/nltk_data...\n",
            "[nltk_data]   Package stopwords is already up-to-date!\n",
            "[nltk_data] Downloading package wordnet to /root/nltk_data...\n",
            "[nltk_data]   Package wordnet is already up-to-date!\n",
            "[nltk_data] Downloading package omw-1.4 to /root/nltk_data...\n",
            "[nltk_data]   Package omw-1.4 is already up-to-date!\n"
          ]
        },
        {
          "output_type": "stream",
          "name": "stdout",
          "text": [
            "Original Text:\n",
            " The leaves on the trees were falling gently as she walked through the forest.\n",
            "\n",
            "After Stopword Removal & Lemmatization:\n",
            " ['leaf', 'tree', 'falling', 'gently', 'walked']\n"
          ]
        }
      ]
    },
    {
      "cell_type": "code",
      "source": [
        "# ✅ Install if not already\n",
        "# pip install spacy\n",
        "# python -m spacy download en_core_web_sm\n",
        "\n",
        "import spacy\n",
        "\n",
        "# Load English model\n",
        "nlp = spacy.load(\"en_core_web_sm\")\n",
        "\n",
        "# ✅ Sample text\n",
        "text = \"The cats are running and chasing the mice in the gardens.\"\n",
        "\n",
        "# ✅ Step 1: Process the text\n",
        "doc = nlp(text.lower())\n",
        "\n",
        "# ✅ Step 2: Remove stopwords and punctuations, and Lemmatize\n",
        "lemmatized_tokens = [token.lemma_ for token in doc if not token.is_stop and token.is_alpha]\n",
        "\n",
        "# ✅ Output\n",
        "print(\"After SpaCy Lemmatization & Stopword Removal:\\n\", lemmatized_tokens)\n"
      ],
      "metadata": {
        "colab": {
          "base_uri": "https://localhost:8080/"
        },
        "id": "r8CkQBoqrI2f",
        "outputId": "6929b5eb-0b8d-4d31-bd0f-43e18ff56dad"
      },
      "execution_count": 4,
      "outputs": [
        {
          "output_type": "stream",
          "name": "stdout",
          "text": [
            "After SpaCy Lemmatization & Stopword Removal:\n",
            " ['cat', 'run', 'chase', 'mouse', 'garden']\n"
          ]
        }
      ]
    },
    {
      "cell_type": "code",
      "source": [],
      "metadata": {
        "id": "uCnKrNqRrRPn"
      },
      "execution_count": null,
      "outputs": []
    }
  ]
}