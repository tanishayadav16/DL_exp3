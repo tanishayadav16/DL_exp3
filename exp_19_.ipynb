{
  "nbformat": 4,
  "nbformat_minor": 0,
  "metadata": {
    "colab": {
      "provenance": [],
      "authorship_tag": "ABX9TyPuS8V7wczk9lMlsbqHTK4h",
      "include_colab_link": true
    },
    "kernelspec": {
      "name": "python3",
      "display_name": "Python 3"
    },
    "language_info": {
      "name": "python"
    }
  },
  "cells": [
    {
      "cell_type": "markdown",
      "metadata": {
        "id": "view-in-github",
        "colab_type": "text"
      },
      "source": [
        "<a href=\"https://colab.research.google.com/github/tanishayadav16/DL_exp3/blob/main/exp_19_.ipynb\" target=\"_parent\"><img src=\"https://colab.research.google.com/assets/colab-badge.svg\" alt=\"Open In Colab\"/></a>"
      ]
    },
    {
      "cell_type": "code",
      "execution_count": 1,
      "metadata": {
        "colab": {
          "base_uri": "https://localhost:8080/"
        },
        "id": "If2eU2jur1Ni",
        "outputId": "6762b9ed-feca-400a-e60b-c458eda36db9"
      },
      "outputs": [
        {
          "output_type": "stream",
          "name": "stdout",
          "text": [
            "\n",
            "--- POS Tagging ---\n",
            "Apple           POS: PROPN  -  NNP\n",
            "is              POS: AUX  -  VBZ\n",
            "looking         POS: VERB  -  VBG\n",
            "at              POS: ADP  -  IN\n",
            "buying          POS: VERB  -  VBG\n",
            "U.K.            POS: PROPN  -  NNP\n",
            "startup         POS: NOUN  -  NN\n",
            "for             POS: ADP  -  IN\n",
            "$               POS: SYM  -  $\n",
            "1               POS: NUM  -  CD\n",
            "billion         POS: NUM  -  CD\n",
            ".               POS: PUNCT  -  .\n",
            "\n",
            "               POS: SPACE  -  _SP\n",
            "Meanwhile       POS: ADV  -  RB\n",
            ",               POS: PUNCT  -  ,\n",
            "Google          POS: PROPN  -  NNP\n",
            "plans           POS: VERB  -  VBZ\n",
            "to              POS: PART  -  TO\n",
            "open            POS: VERB  -  VB\n",
            "a               POS: DET  -  DT\n",
            "new             POS: ADJ  -  JJ\n",
            "office          POS: NOUN  -  NN\n",
            "in              POS: ADP  -  IN\n",
            "London          POS: PROPN  -  NNP\n",
            "by              POS: ADP  -  IN\n",
            "the             POS: DET  -  DT\n",
            "end             POS: NOUN  -  NN\n",
            "of              POS: ADP  -  IN\n",
            "2025            POS: NUM  -  CD\n",
            ".               POS: PUNCT  -  .\n",
            "\n",
            "--- Named Entities ---\n",
            "Apple                          --> ORG\n",
            "U.K.                           --> GPE\n",
            "$1 billion                     --> MONEY\n",
            "Google                         --> ORG\n",
            "London                         --> GPE\n",
            "the end of 2025                --> DATE\n",
            "\n",
            "--- Sentence Segmentation ---\n",
            "Apple is looking at buying U.K. startup for $1 billion. \n",
            "\n",
            "Meanwhile, Google plans to open a new office in London by the end of 2025.\n"
          ]
        }
      ],
      "source": [
        "# ✅ Install if not already\n",
        "# pip install spacy\n",
        "# python -m spacy download en_core_web_sm\n",
        "\n",
        "import spacy\n",
        "from spacy import displacy\n",
        "\n",
        "# ✅ Load English model\n",
        "nlp = spacy.load(\"en_core_web_sm\")\n",
        "\n",
        "# ✅ Sample text\n",
        "text = \"\"\"Apple is looking at buying U.K. startup for $1 billion.\n",
        "Meanwhile, Google plans to open a new office in London by the end of 2025.\"\"\"\n",
        "\n",
        "# ✅ Step 1: Process the text\n",
        "doc = nlp(text)\n",
        "\n",
        "# 1. Visualization of POS\n",
        "print(\"\\n--- POS Tagging ---\")\n",
        "for token in doc:\n",
        "    print(f\"{token.text:15} POS: {token.pos_}  -  {token.tag_}\")\n",
        "\n",
        "# 2. Named Entity Recognition (NER)\n",
        "print(\"\\n--- Named Entities ---\")\n",
        "for ent in doc.ents:\n",
        "    print(f\"{ent.text:30} --> {ent.label_}\")\n",
        "\n",
        "# 3. Sentence Segmentation\n",
        "print(\"\\n--- Sentence Segmentation ---\")\n",
        "for sent in doc.sents:\n",
        "    print(sent.text)\n",
        "\n",
        "# OPTIONAL: Visualization (Only works in Jupyter/Colab)\n",
        "# displacy.render(doc, style=\"ent\")   # for NER visualization\n",
        "# displacy.render(doc, style=\"dep\")   # for POS/Dependency visualization\n"
      ]
    }
  ]
}