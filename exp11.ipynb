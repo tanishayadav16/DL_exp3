{
  "nbformat": 4,
  "nbformat_minor": 0,
  "metadata": {
    "colab": {
      "provenance": [],
      "authorship_tag": "ABX9TyPPMSVOjWojWB844mCizmIH",
      "include_colab_link": true
    },
    "kernelspec": {
      "name": "python3",
      "display_name": "Python 3"
    },
    "language_info": {
      "name": "python"
    }
  },
  "cells": [
    {
      "cell_type": "markdown",
      "metadata": {
        "id": "view-in-github",
        "colab_type": "text"
      },
      "source": [
        "<a href=\"https://colab.research.google.com/github/tanishayadav16/DL_exp3/blob/main/exp11.ipynb\" target=\"_parent\"><img src=\"https://colab.research.google.com/assets/colab-badge.svg\" alt=\"Open In Colab\"/></a>"
      ]
    },
    {
      "cell_type": "code",
      "source": [
        "import nltk\n",
        "nltk.download('punkt')  # Redownload tokenizer\n",
        "nltk.download('omw-1.4')  # Optional: Fixes other tokenization issues\n",
        "\n",
        "# Manually specify the NLTK data path\n",
        "nltk.data.path.append('/usr/local/nltk_data')\n"
      ],
      "metadata": {
        "colab": {
          "base_uri": "https://localhost:8080/"
        },
        "id": "6uNTKQKPr3kH",
        "outputId": "3b7e4b66-7a41-4279-f134-46cb48dde7c3"
      },
      "execution_count": 10,
      "outputs": [
        {
          "output_type": "stream",
          "name": "stderr",
          "text": [
            "[nltk_data] Downloading package punkt to /root/nltk_data...\n",
            "[nltk_data]   Package punkt is already up-to-date!\n",
            "[nltk_data] Downloading package omw-1.4 to /root/nltk_data...\n",
            "[nltk_data]   Package omw-1.4 is already up-to-date!\n"
          ]
        }
      ]
    },
    {
      "cell_type": "code",
      "source": [
        "import nltk\n",
        "import os\n",
        "\n",
        "# Set NLTK Data Directory\n",
        "nltk_data_dir = \"/usr/local/nltk_data\"\n",
        "os.makedirs(nltk_data_dir, exist_ok=True)\n",
        "nltk.data.path.append(nltk_data_dir)\n",
        "\n",
        "# Manually download 'punkt'\n",
        "nltk.download('punkt', download_dir=nltk_data_dir)\n",
        "\n",
        "# Verify if it's installed\n",
        "print(nltk.data.find('tokenizers/punkt'))\n"
      ],
      "metadata": {
        "colab": {
          "base_uri": "https://localhost:8080/"
        },
        "id": "s7dUAF8rr8oD",
        "outputId": "a576589a-c7db-46ec-fbc5-0d166f5ea6e8"
      },
      "execution_count": 11,
      "outputs": [
        {
          "output_type": "stream",
          "name": "stdout",
          "text": [
            "/root/nltk_data/tokenizers/punkt\n"
          ]
        },
        {
          "output_type": "stream",
          "name": "stderr",
          "text": [
            "[nltk_data] Downloading package punkt to /usr/local/nltk_data...\n",
            "[nltk_data]   Package punkt is already up-to-date!\n"
          ]
        }
      ]
    },
    {
      "cell_type": "code",
      "source": [
        "from nltk.tokenize import RegexpTokenizer\n",
        "\n",
        "tokenizer = RegexpTokenizer(r'\\w+')\n",
        "tokens = tokenizer.tokenize(\"Running, runner, and ran are all different forms of the verb run.\")\n",
        "print(\"Tokens:\", tokens)\n"
      ],
      "metadata": {
        "colab": {
          "base_uri": "https://localhost:8080/"
        },
        "id": "3c6MLVOOsAzu",
        "outputId": "32ffd416-3890-499a-bf09-98bf9d3cf398"
      },
      "execution_count": 12,
      "outputs": [
        {
          "output_type": "stream",
          "name": "stdout",
          "text": [
            "Tokens: ['Running', 'runner', 'and', 'ran', 'are', 'all', 'different', 'forms', 'of', 'the', 'verb', 'run']\n"
          ]
        }
      ]
    },
    {
      "cell_type": "code",
      "source": [
        "from nltk.stem import PorterStemmer\n",
        "\n",
        "# Initialize the stemmer\n",
        "stemmer = PorterStemmer()\n",
        "\n",
        "# Apply stemming to each token\n",
        "stemmed_words = [stemmer.stem(word) for word in tokens]\n",
        "\n",
        "# Display results\n",
        "print(\"Stemmed Words:\", stemmed_words)\n"
      ],
      "metadata": {
        "colab": {
          "base_uri": "https://localhost:8080/"
        },
        "id": "ItS_K2cssL6F",
        "outputId": "37891226-ad44-4287-cb11-ee887eb84e2c"
      },
      "execution_count": 13,
      "outputs": [
        {
          "output_type": "stream",
          "name": "stdout",
          "text": [
            "Stemmed Words: ['run', 'runner', 'and', 'ran', 'are', 'all', 'differ', 'form', 'of', 'the', 'verb', 'run']\n"
          ]
        }
      ]
    }
  ]
}